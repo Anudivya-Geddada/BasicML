{
  "nbformat": 4,
  "nbformat_minor": 0,
  "metadata": {
    "colab": {
      "name": "Copy of Untitled1.ipynb",
      "provenance": [],
      "authorship_tag": "ABX9TyMjYQm05/aZ8ZMfUxeTIRx8",
      "include_colab_link": true
    },
    "kernelspec": {
      "name": "python3",
      "display_name": "Python 3"
    },
    "language_info": {
      "name": "python"
    }
  },
  "cells": [
    {
      "cell_type": "markdown",
      "metadata": {
        "id": "view-in-github",
        "colab_type": "text"
      },
      "source": [
        "<a href=\"https://colab.research.google.com/github/Anudivya-Geddada/BasicML/blob/main/Copy_of_Untitled1.ipynb\" target=\"_parent\"><img src=\"https://colab.research.google.com/assets/colab-badge.svg\" alt=\"Open In Colab\"/></a>"
      ]
    },
    {
      "cell_type": "code",
      "metadata": {
        "colab": {
          "base_uri": "https://localhost:8080/"
        },
        "id": "IRp4X_QbCwM3",
        "outputId": "06b6f1a1-fc44-4134-83cb-e6281b09b1cb"
      },
      "source": [
        "n=1024 \n",
        "if n%2==0:\n",
        "  print (\"even number\") \n",
        "else: \n",
        "  print (\"odd number\")"
      ],
      "execution_count": null,
      "outputs": [
        {
          "output_type": "stream",
          "text": [
            "even number\n"
          ],
          "name": "stdout"
        }
      ]
    },
    {
      "cell_type": "code",
      "metadata": {
        "colab": {
          "base_uri": "https://localhost:8080/"
        },
        "id": "lxAVra4nDYzx",
        "outputId": "529f9f19-4288-4da2-8110-45294da664e5"
      },
      "source": [
        "n=2021\n",
        "if(n%400==0) or (n%4==0 and n%100!=0):\n",
        "   print(\"leap year\") \n",
        "else: \n",
        "   print(\"not a leap year\")"
      ],
      "execution_count": null,
      "outputs": [
        {
          "output_type": "stream",
          "text": [
            "not a leap year\n"
          ],
          "name": "stdout"
        }
      ]
    },
    {
      "cell_type": "code",
      "metadata": {
        "colab": {
          "base_uri": "https://localhost:8080/"
        },
        "id": "irsNNQ5zEM10",
        "outputId": "8aa2d50e-cc71-47dc-d57b-418044bd6a74"
      },
      "source": [
        "a=20\n",
        "b=60\n",
        "if a>b:\n",
        "  print(\"a is max\")\n",
        "else: \n",
        "  print(\"b is max\")"
      ],
      "execution_count": null,
      "outputs": [
        {
          "output_type": "stream",
          "text": [
            "b is max\n"
          ],
          "name": "stdout"
        }
      ]
    }
  ]
}